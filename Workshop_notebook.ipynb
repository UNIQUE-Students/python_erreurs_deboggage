{
 "cells": [
  {
   "cell_type": "markdown",
   "id": "3ea40236",
   "metadata": {},
   "source": [
    "## Erreurs communes et simples"
   ]
  },
  {
   "cell_type": "code",
   "execution_count": null,
   "id": "ba8a6b36",
   "metadata": {},
   "outputs": [],
   "source": [
    "counter = 0\n",
    "for i in range(5)\n",
    "    i_square = i*i\n",
    "    counter += i"
   ]
  },
  {
   "cell_type": "code",
   "execution_count": null,
   "id": "700ca222",
   "metadata": {},
   "outputs": [],
   "source": [
    "print(Counter)"
   ]
  },
  {
   "cell_type": "code",
   "execution_count": null,
   "id": "f91a8a49",
   "metadata": {
    "scrolled": true
   },
   "outputs": [],
   "source": [
    "ma_liste = [\"un\", \"deux\", \"trois\"]\n",
    "ma_liste[3]"
   ]
  },
  {
   "cell_type": "code",
   "execution_count": null,
   "id": "f1516389",
   "metadata": {},
   "outputs": [],
   "source": [
    "dictionnaire = {\"un\": 1, \"deux\": 2}\n",
    "dictionnaire[\"trois\"]"
   ]
  },
  {
   "cell_type": "code",
   "execution_count": null,
   "id": "725883ae",
   "metadata": {},
   "outputs": [],
   "source": [
    "mon_tuple = (1,2)\n",
    "mon_tuple.append(3)"
   ]
  },
  {
   "cell_type": "code",
   "execution_count": null,
   "id": "9386667d",
   "metadata": {},
   "outputs": [],
   "source": [
    "counter = 0\n",
    "for i in range(5):\n",
    "    i_square = i*i\n",
    "     counter += i"
   ]
  },
  {
   "cell_type": "code",
   "execution_count": null,
   "id": "90d65f6b",
   "metadata": {},
   "outputs": [],
   "source": [
    "# Un peu moins évident\n",
    "!python script_1.py"
   ]
  },
  {
   "cell_type": "code",
   "execution_count": null,
   "id": "bd965a15",
   "metadata": {},
   "outputs": [],
   "source": [
    "import nompy as np"
   ]
  },
  {
   "cell_type": "code",
   "execution_count": null,
   "id": "585a54e7",
   "metadata": {
    "scrolled": true
   },
   "outputs": [],
   "source": [
    "pip list"
   ]
  },
  {
   "cell_type": "code",
   "execution_count": null,
   "id": "c3641e28",
   "metadata": {},
   "outputs": [],
   "source": [
    "pip install numpy\n",
    "#pip install --upgrade pip"
   ]
  },
  {
   "cell_type": "code",
   "execution_count": null,
   "id": "89b13f9b",
   "metadata": {},
   "outputs": [],
   "source": [
    "a = np.random.randn(15,8)\n",
    "b = np.random.randn(15,8)\n",
    "c = np.matmul(a, b)"
   ]
  },
  {
   "cell_type": "markdown",
   "id": "4f47c5e4",
   "metadata": {},
   "source": [
    "## Un peu plus complexe"
   ]
  },
  {
   "cell_type": "code",
   "execution_count": null,
   "id": "4bde94e4",
   "metadata": {},
   "outputs": [],
   "source": [
    "import pandas as pd\n",
    "\n",
    "df = pd.DataFrame(\n",
    "    {\n",
    "        \"x\": [\"1\", \"42\", \"1.0888e+06\"],\n",
    "        \"y\": [\"a\", \"b\", \"c\"],\n",
    "        \"z\": [True, True, False],\n",
    "    }\n",
    ")"
   ]
  },
  {
   "cell_type": "code",
   "execution_count": null,
   "id": "ab12ef75",
   "metadata": {},
   "outputs": [],
   "source": [
    "df"
   ]
  },
  {
   "cell_type": "code",
   "execution_count": null,
   "id": "0495c53e",
   "metadata": {},
   "outputs": [],
   "source": [
    "df[\"x\"].sum()"
   ]
  },
  {
   "cell_type": "code",
   "execution_count": null,
   "id": "612c696b",
   "metadata": {},
   "outputs": [],
   "source": [
    "type(df[\"x\"][0])"
   ]
  },
  {
   "cell_type": "code",
   "execution_count": null,
   "id": "b8d0468d",
   "metadata": {},
   "outputs": [],
   "source": [
    "df[\"x\"] = df['x'].astype('int')"
   ]
  },
  {
   "cell_type": "code",
   "execution_count": null,
   "id": "ad2f72f5",
   "metadata": {},
   "outputs": [],
   "source": [
    "df[\"x\"]"
   ]
  },
  {
   "cell_type": "markdown",
   "id": "0a1bbc96",
   "metadata": {},
   "source": [
    "## Comment lire le traceback"
   ]
  },
  {
   "cell_type": "code",
   "execution_count": null,
   "id": "f251d857",
   "metadata": {},
   "outputs": [],
   "source": [
    "import numpy as np\n",
    "from script_2 import mult_ones\n",
    "\n",
    "x = np.random.randn(10,5)\n",
    "z = mult_ones(x)"
   ]
  },
  {
   "cell_type": "code",
   "execution_count": null,
   "id": "91800511",
   "metadata": {},
   "outputs": [],
   "source": [
    "# avec un message complex\n",
    "from script_2 import make_dataframe\n",
    "df = make_dataframe(\n",
    "    {\n",
    "         'x':['1', '42', '1.0888e+06'],\n",
    "         'y':[\"a\", \"b\", \"c\"],\n",
    "         'z':[True, True, False]\n",
    "    }\n",
    ")"
   ]
  },
  {
   "cell_type": "code",
   "execution_count": null,
   "id": "c9b6b35e",
   "metadata": {
    "scrolled": false
   },
   "outputs": [],
   "source": [
    "#nilearn plot 4D image\n",
    "from nilearn.plotting import view_img\n",
    "\n",
    "file_path = \"development_fmri/development_fmri/sub-pixar123_task-pixar_space-MNI152NLin2009cAsym_desc-preproc_bold.nii.gz\"\n",
    "view_img(file_path)"
   ]
  },
  {
   "cell_type": "code",
   "execution_count": null,
   "id": "abf76794",
   "metadata": {},
   "outputs": [],
   "source": []
  }
 ],
 "metadata": {
  "kernelspec": {
   "display_name": "Python 3 (ipykernel)",
   "language": "python",
   "name": "python3"
  },
  "language_info": {
   "codemirror_mode": {
    "name": "ipython",
    "version": 3
   },
   "file_extension": ".py",
   "mimetype": "text/x-python",
   "name": "python",
   "nbconvert_exporter": "python",
   "pygments_lexer": "ipython3",
   "version": "3.8.9"
  }
 },
 "nbformat": 4,
 "nbformat_minor": 5
}
